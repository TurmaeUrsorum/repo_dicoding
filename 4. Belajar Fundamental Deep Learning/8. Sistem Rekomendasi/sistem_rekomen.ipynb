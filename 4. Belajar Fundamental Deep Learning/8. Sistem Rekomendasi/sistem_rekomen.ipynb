{
 "cells": [
  {
   "cell_type": "code",
   "execution_count": 1,
   "id": "1bed2c1c",
   "metadata": {},
   "outputs": [
    {
     "name": "stderr",
     "output_type": "stream",
     "text": [
      "2025-10-02 10:33:22.555485: I tensorflow/core/platform/cpu_feature_guard.cc:210] This TensorFlow binary is optimized to use available CPU instructions in performance-critical operations.\n",
      "To enable the following instructions: AVX2 FMA, in other operations, rebuild TensorFlow with the appropriate compiler flags.\n"
     ]
    },
    {
     "name": "stdout",
     "output_type": "stream",
     "text": [
      "WARNING:tensorflow:From /home/ayam/miniconda3/envs/tf220/lib/python3.11/site-packages/tensorflow/python/compat/v2_compat.py:98: disable_resource_variables (from tensorflow.python.ops.resource_variables_toggle) is deprecated and will be removed in a future version.\n",
      "Instructions for updating:\n",
      "non-resource variables are not supported in the long term\n"
     ]
    }
   ],
   "source": [
    "import numpy as np\n",
    "import pandas as pd\n",
    "import collections\n",
    "from mpl_toolkits.mplot3d import Axes3D\n",
    "from IPython import display\n",
    "from matplotlib import pyplot as plt\n",
    "import sklearn\n",
    "import sklearn.manifold\n",
    "import tensorflow.compat.v1 as tf\n",
    "tf.disable_v2_behavior()\n",
    "tf.logging.set_verbosity(tf.logging.ERROR)\n",
    "import altair as alt"
   ]
  },
  {
   "cell_type": "code",
   "execution_count": 2,
   "id": "d234d919",
   "metadata": {},
   "outputs": [
    {
     "name": "stdout",
     "output_type": "stream",
     "text": [
      "2.20.0\n",
      "3.11.3\n",
      "[PhysicalDevice(name='/physical_device:GPU:0', device_type='GPU')]\n"
     ]
    }
   ],
   "source": [
    "import tensorflow as tf\n",
    "print(tf.__version__)\n",
    "print(tf.keras.__version__)\n",
    "print(tf.config.list_physical_devices('GPU'))"
   ]
  },
  {
   "cell_type": "markdown",
   "id": "45ffa04f",
   "metadata": {},
   "source": [
    "# Latihan Membangun Sistem Rekomendasi"
   ]
  },
  {
   "cell_type": "markdown",
   "id": "0f8c196e",
   "metadata": {},
   "source": [
    "## impor library"
   ]
  },
  {
   "cell_type": "code",
   "execution_count": 3,
   "id": "2caf0cd2",
   "metadata": {},
   "outputs": [],
   "source": [
    "import numpy as np\n",
    "import pandas as pd\n",
    "import collections\n",
    "from mpl_toolkits.mplot3d import Axes3D\n",
    "from IPython import display\n",
    "from matplotlib import pyplot as plt\n",
    "import sklearn\n",
    "import sklearn.manifold\n",
    "import tensorflow.compat.v1 as tf\n",
    "tf.disable_v2_behavior()\n",
    "tf.logging.set_verbosity(tf.logging.ERROR)\n",
    "import altair as alt"
   ]
  },
  {
   "cell_type": "code",
   "execution_count": 5,
   "id": "75da4713",
   "metadata": {},
   "outputs": [
    {
     "data": {
      "text/plain": [
       "DataTransformerRegistry.enable('default')"
      ]
     },
     "execution_count": 5,
     "metadata": {},
     "output_type": "execute_result"
    }
   ],
   "source": [
    "alt.data_transformers.enable('default', max_rows=None)"
   ]
  },
  {
   "cell_type": "markdown",
   "id": "c5f1da01",
   "metadata": {},
   "source": [
    "Kode di atas memiliki dua buah sintaks yang berperan sebagai *ground rules* ketika menggunakan **Altair** sebagai library visualisasi data. Mari kita jabarkan satu per satu:\n",
    "\n",
    "### 1. `alt.data_transformers.enable('default', max_rows=None)`\n",
    "Baris ini mengatur *data transformer* Altair untuk digunakan dalam notebook. *Data transformer* ini mengubah data mentah menjadi format yang dapat digunakan oleh Altair untuk membuat visualisasi.  \n",
    "\n",
    "- `default` → mengatur transformer ke mode bawaan yang cocok untuk visualisasi.  \n",
    "- `max_rows=None` → menghilangkan batasan jumlah baris data yang dapat diplot.  \n",
    "  - Ini bermanfaat jika kita memiliki dataset besar yang ingin divisualisasikan sepenuhnya.  \n",
    "\n",
    "---\n",
    "\n",
    "### 2. `alt.renderers.enable('colab')`\n",
    "Baris ini mengatur Altair agar dapat digunakan dalam **Google Colab**.  \n",
    "\n",
    "- *Renderer* adalah komponen yang bertanggung jawab menampilkan visualisasi di lingkungan kerja (misalnya browser atau notebook).  \n",
    "- `colab` → mengatur renderer agar visualisasi Altair dapat ditampilkan langsung di Google Colab.  \n",
    "\n",
    "Dengan pengaturan ini, visualisasi yang kita buat menggunakan Altair akan muncul secara interaktif di Google Colab.\n"
   ]
  },
  {
   "cell_type": "markdown",
   "id": "aa6e1823",
   "metadata": {},
   "source": [
    "## mengunduh dataset"
   ]
  },
  {
   "cell_type": "code",
   "execution_count": 7,
   "id": "6a66b402",
   "metadata": {},
   "outputs": [
    {
     "name": "stdout",
     "output_type": "stream",
     "text": [
      "Downloading movielens data...\n",
      "Done. Dataset contains:\n",
      "b'943 users\\n1682 items\\n100000 ratings\\n'\n"
     ]
    }
   ],
   "source": [
    "print(\"Downloading movielens data...\")\n",
    "from urllib.request import urlretrieve\n",
    "import zipfile\n",
    " \n",
    "urlretrieve(\"http://files.grouplens.org/datasets/movielens/ml-100k.zip\", \"./bahan/movielens.zip\")\n",
    "zip_ref = zipfile.ZipFile('./bahan/movielens.zip', \"r\")\n",
    "zip_ref.extractall()\n",
    "print(\"Done. Dataset contains:\")\n",
    "print(zip_ref.read('ml-100k/u.info'))"
   ]
  },
  {
   "cell_type": "code",
   "execution_count": 8,
   "id": "9c3f4591",
   "metadata": {},
   "outputs": [],
   "source": [
    "# Load masing masing dataset (users, movies, and ratings).\n",
    "users_cols = ['user_id', 'age', 'sex', 'occupation', 'zip_code']\n",
    "users = pd.read_csv(\n",
    "    './bahan/ml-100k/u.user', sep='|', names=users_cols, encoding='latin-1')\n",
    " \n",
    "ratings_cols = ['user_id', 'movie_id', 'rating', 'unix_timestamp']\n",
    "ratings = pd.read_csv(\n",
    "    './bahan/ml-100k/u.data', sep='\\t', names=ratings_cols, encoding='latin-1')\n",
    "# Genre pada setiap film bersifat biner.\n",
    "genre_cols = [\n",
    "    \"genre_unknown\", \"Action\", \"Adventure\", \"Animation\", \"Children\", \"Comedy\",\n",
    "    \"Crime\", \"Documentary\", \"Drama\", \"Fantasy\", \"Film-Noir\", \"Horror\",\n",
    "    \"Musical\", \"Mystery\", \"Romance\", \"Sci-Fi\", \"Thriller\", \"War\", \"Western\"\n",
    "]\n",
    "movies_cols = [\n",
    "    'movie_id', 'title', 'release_date', \"video_release_date\", \"imdb_url\"\n",
    "] + genre_cols\n",
    "movies = pd.read_csv(\n",
    "    './bahan/ml-100k/u.item', sep='|', names=movies_cols, encoding='latin-1')"
   ]
  },
  {
   "cell_type": "code",
   "execution_count": 9,
   "id": "e10334c0",
   "metadata": {},
   "outputs": [
    {
     "data": {
      "text/html": [
       "<div>\n",
       "<style scoped>\n",
       "    .dataframe tbody tr th:only-of-type {\n",
       "        vertical-align: middle;\n",
       "    }\n",
       "\n",
       "    .dataframe tbody tr th {\n",
       "        vertical-align: top;\n",
       "    }\n",
       "\n",
       "    .dataframe thead th {\n",
       "        text-align: right;\n",
       "    }\n",
       "</style>\n",
       "<table border=\"1\" class=\"dataframe\">\n",
       "  <thead>\n",
       "    <tr style=\"text-align: right;\">\n",
       "      <th></th>\n",
       "      <th>user_id</th>\n",
       "      <th>age</th>\n",
       "      <th>sex</th>\n",
       "      <th>occupation</th>\n",
       "      <th>zip_code</th>\n",
       "    </tr>\n",
       "  </thead>\n",
       "  <tbody>\n",
       "    <tr>\n",
       "      <th>0</th>\n",
       "      <td>1</td>\n",
       "      <td>24</td>\n",
       "      <td>M</td>\n",
       "      <td>technician</td>\n",
       "      <td>85711</td>\n",
       "    </tr>\n",
       "    <tr>\n",
       "      <th>1</th>\n",
       "      <td>2</td>\n",
       "      <td>53</td>\n",
       "      <td>F</td>\n",
       "      <td>other</td>\n",
       "      <td>94043</td>\n",
       "    </tr>\n",
       "    <tr>\n",
       "      <th>2</th>\n",
       "      <td>3</td>\n",
       "      <td>23</td>\n",
       "      <td>M</td>\n",
       "      <td>writer</td>\n",
       "      <td>32067</td>\n",
       "    </tr>\n",
       "    <tr>\n",
       "      <th>3</th>\n",
       "      <td>4</td>\n",
       "      <td>24</td>\n",
       "      <td>M</td>\n",
       "      <td>technician</td>\n",
       "      <td>43537</td>\n",
       "    </tr>\n",
       "    <tr>\n",
       "      <th>4</th>\n",
       "      <td>5</td>\n",
       "      <td>33</td>\n",
       "      <td>F</td>\n",
       "      <td>other</td>\n",
       "      <td>15213</td>\n",
       "    </tr>\n",
       "  </tbody>\n",
       "</table>\n",
       "</div>"
      ],
      "text/plain": [
       "   user_id  age sex  occupation zip_code\n",
       "0        1   24   M  technician    85711\n",
       "1        2   53   F       other    94043\n",
       "2        3   23   M      writer    32067\n",
       "3        4   24   M  technician    43537\n",
       "4        5   33   F       other    15213"
      ]
     },
     "execution_count": 9,
     "metadata": {},
     "output_type": "execute_result"
    }
   ],
   "source": [
    "users.head()"
   ]
  },
  {
   "cell_type": "code",
   "execution_count": 10,
   "id": "ee8c50ac",
   "metadata": {},
   "outputs": [
    {
     "data": {
      "text/html": [
       "<div>\n",
       "<style scoped>\n",
       "    .dataframe tbody tr th:only-of-type {\n",
       "        vertical-align: middle;\n",
       "    }\n",
       "\n",
       "    .dataframe tbody tr th {\n",
       "        vertical-align: top;\n",
       "    }\n",
       "\n",
       "    .dataframe thead th {\n",
       "        text-align: right;\n",
       "    }\n",
       "</style>\n",
       "<table border=\"1\" class=\"dataframe\">\n",
       "  <thead>\n",
       "    <tr style=\"text-align: right;\">\n",
       "      <th></th>\n",
       "      <th>user_id</th>\n",
       "      <th>movie_id</th>\n",
       "      <th>rating</th>\n",
       "      <th>unix_timestamp</th>\n",
       "    </tr>\n",
       "  </thead>\n",
       "  <tbody>\n",
       "    <tr>\n",
       "      <th>0</th>\n",
       "      <td>196</td>\n",
       "      <td>242</td>\n",
       "      <td>3</td>\n",
       "      <td>881250949</td>\n",
       "    </tr>\n",
       "    <tr>\n",
       "      <th>1</th>\n",
       "      <td>186</td>\n",
       "      <td>302</td>\n",
       "      <td>3</td>\n",
       "      <td>891717742</td>\n",
       "    </tr>\n",
       "    <tr>\n",
       "      <th>2</th>\n",
       "      <td>22</td>\n",
       "      <td>377</td>\n",
       "      <td>1</td>\n",
       "      <td>878887116</td>\n",
       "    </tr>\n",
       "    <tr>\n",
       "      <th>3</th>\n",
       "      <td>244</td>\n",
       "      <td>51</td>\n",
       "      <td>2</td>\n",
       "      <td>880606923</td>\n",
       "    </tr>\n",
       "    <tr>\n",
       "      <th>4</th>\n",
       "      <td>166</td>\n",
       "      <td>346</td>\n",
       "      <td>1</td>\n",
       "      <td>886397596</td>\n",
       "    </tr>\n",
       "  </tbody>\n",
       "</table>\n",
       "</div>"
      ],
      "text/plain": [
       "   user_id  movie_id  rating  unix_timestamp\n",
       "0      196       242       3       881250949\n",
       "1      186       302       3       891717742\n",
       "2       22       377       1       878887116\n",
       "3      244        51       2       880606923\n",
       "4      166       346       1       886397596"
      ]
     },
     "execution_count": 10,
     "metadata": {},
     "output_type": "execute_result"
    }
   ],
   "source": [
    "ratings.head()"
   ]
  },
  {
   "cell_type": "code",
   "execution_count": 11,
   "id": "ae245358",
   "metadata": {},
   "outputs": [
    {
     "data": {
      "text/html": [
       "<div>\n",
       "<style scoped>\n",
       "    .dataframe tbody tr th:only-of-type {\n",
       "        vertical-align: middle;\n",
       "    }\n",
       "\n",
       "    .dataframe tbody tr th {\n",
       "        vertical-align: top;\n",
       "    }\n",
       "\n",
       "    .dataframe thead th {\n",
       "        text-align: right;\n",
       "    }\n",
       "</style>\n",
       "<table border=\"1\" class=\"dataframe\">\n",
       "  <thead>\n",
       "    <tr style=\"text-align: right;\">\n",
       "      <th></th>\n",
       "      <th>movie_id</th>\n",
       "      <th>title</th>\n",
       "      <th>release_date</th>\n",
       "      <th>video_release_date</th>\n",
       "      <th>imdb_url</th>\n",
       "      <th>genre_unknown</th>\n",
       "      <th>Action</th>\n",
       "      <th>Adventure</th>\n",
       "      <th>Animation</th>\n",
       "      <th>Children</th>\n",
       "      <th>...</th>\n",
       "      <th>Fantasy</th>\n",
       "      <th>Film-Noir</th>\n",
       "      <th>Horror</th>\n",
       "      <th>Musical</th>\n",
       "      <th>Mystery</th>\n",
       "      <th>Romance</th>\n",
       "      <th>Sci-Fi</th>\n",
       "      <th>Thriller</th>\n",
       "      <th>War</th>\n",
       "      <th>Western</th>\n",
       "    </tr>\n",
       "  </thead>\n",
       "  <tbody>\n",
       "    <tr>\n",
       "      <th>0</th>\n",
       "      <td>1</td>\n",
       "      <td>Toy Story (1995)</td>\n",
       "      <td>01-Jan-1995</td>\n",
       "      <td>NaN</td>\n",
       "      <td>http://us.imdb.com/M/title-exact?Toy%20Story%2...</td>\n",
       "      <td>0</td>\n",
       "      <td>0</td>\n",
       "      <td>0</td>\n",
       "      <td>1</td>\n",
       "      <td>1</td>\n",
       "      <td>...</td>\n",
       "      <td>0</td>\n",
       "      <td>0</td>\n",
       "      <td>0</td>\n",
       "      <td>0</td>\n",
       "      <td>0</td>\n",
       "      <td>0</td>\n",
       "      <td>0</td>\n",
       "      <td>0</td>\n",
       "      <td>0</td>\n",
       "      <td>0</td>\n",
       "    </tr>\n",
       "    <tr>\n",
       "      <th>1</th>\n",
       "      <td>2</td>\n",
       "      <td>GoldenEye (1995)</td>\n",
       "      <td>01-Jan-1995</td>\n",
       "      <td>NaN</td>\n",
       "      <td>http://us.imdb.com/M/title-exact?GoldenEye%20(...</td>\n",
       "      <td>0</td>\n",
       "      <td>1</td>\n",
       "      <td>1</td>\n",
       "      <td>0</td>\n",
       "      <td>0</td>\n",
       "      <td>...</td>\n",
       "      <td>0</td>\n",
       "      <td>0</td>\n",
       "      <td>0</td>\n",
       "      <td>0</td>\n",
       "      <td>0</td>\n",
       "      <td>0</td>\n",
       "      <td>0</td>\n",
       "      <td>1</td>\n",
       "      <td>0</td>\n",
       "      <td>0</td>\n",
       "    </tr>\n",
       "    <tr>\n",
       "      <th>2</th>\n",
       "      <td>3</td>\n",
       "      <td>Four Rooms (1995)</td>\n",
       "      <td>01-Jan-1995</td>\n",
       "      <td>NaN</td>\n",
       "      <td>http://us.imdb.com/M/title-exact?Four%20Rooms%...</td>\n",
       "      <td>0</td>\n",
       "      <td>0</td>\n",
       "      <td>0</td>\n",
       "      <td>0</td>\n",
       "      <td>0</td>\n",
       "      <td>...</td>\n",
       "      <td>0</td>\n",
       "      <td>0</td>\n",
       "      <td>0</td>\n",
       "      <td>0</td>\n",
       "      <td>0</td>\n",
       "      <td>0</td>\n",
       "      <td>0</td>\n",
       "      <td>1</td>\n",
       "      <td>0</td>\n",
       "      <td>0</td>\n",
       "    </tr>\n",
       "    <tr>\n",
       "      <th>3</th>\n",
       "      <td>4</td>\n",
       "      <td>Get Shorty (1995)</td>\n",
       "      <td>01-Jan-1995</td>\n",
       "      <td>NaN</td>\n",
       "      <td>http://us.imdb.com/M/title-exact?Get%20Shorty%...</td>\n",
       "      <td>0</td>\n",
       "      <td>1</td>\n",
       "      <td>0</td>\n",
       "      <td>0</td>\n",
       "      <td>0</td>\n",
       "      <td>...</td>\n",
       "      <td>0</td>\n",
       "      <td>0</td>\n",
       "      <td>0</td>\n",
       "      <td>0</td>\n",
       "      <td>0</td>\n",
       "      <td>0</td>\n",
       "      <td>0</td>\n",
       "      <td>0</td>\n",
       "      <td>0</td>\n",
       "      <td>0</td>\n",
       "    </tr>\n",
       "    <tr>\n",
       "      <th>4</th>\n",
       "      <td>5</td>\n",
       "      <td>Copycat (1995)</td>\n",
       "      <td>01-Jan-1995</td>\n",
       "      <td>NaN</td>\n",
       "      <td>http://us.imdb.com/M/title-exact?Copycat%20(1995)</td>\n",
       "      <td>0</td>\n",
       "      <td>0</td>\n",
       "      <td>0</td>\n",
       "      <td>0</td>\n",
       "      <td>0</td>\n",
       "      <td>...</td>\n",
       "      <td>0</td>\n",
       "      <td>0</td>\n",
       "      <td>0</td>\n",
       "      <td>0</td>\n",
       "      <td>0</td>\n",
       "      <td>0</td>\n",
       "      <td>0</td>\n",
       "      <td>1</td>\n",
       "      <td>0</td>\n",
       "      <td>0</td>\n",
       "    </tr>\n",
       "  </tbody>\n",
       "</table>\n",
       "<p>5 rows × 24 columns</p>\n",
       "</div>"
      ],
      "text/plain": [
       "   movie_id              title release_date  video_release_date  \\\n",
       "0         1   Toy Story (1995)  01-Jan-1995                 NaN   \n",
       "1         2   GoldenEye (1995)  01-Jan-1995                 NaN   \n",
       "2         3  Four Rooms (1995)  01-Jan-1995                 NaN   \n",
       "3         4  Get Shorty (1995)  01-Jan-1995                 NaN   \n",
       "4         5     Copycat (1995)  01-Jan-1995                 NaN   \n",
       "\n",
       "                                            imdb_url  genre_unknown  Action  \\\n",
       "0  http://us.imdb.com/M/title-exact?Toy%20Story%2...              0       0   \n",
       "1  http://us.imdb.com/M/title-exact?GoldenEye%20(...              0       1   \n",
       "2  http://us.imdb.com/M/title-exact?Four%20Rooms%...              0       0   \n",
       "3  http://us.imdb.com/M/title-exact?Get%20Shorty%...              0       1   \n",
       "4  http://us.imdb.com/M/title-exact?Copycat%20(1995)              0       0   \n",
       "\n",
       "   Adventure  Animation  Children  ...  Fantasy  Film-Noir  Horror  Musical  \\\n",
       "0          0          1         1  ...        0          0       0        0   \n",
       "1          1          0         0  ...        0          0       0        0   \n",
       "2          0          0         0  ...        0          0       0        0   \n",
       "3          0          0         0  ...        0          0       0        0   \n",
       "4          0          0         0  ...        0          0       0        0   \n",
       "\n",
       "   Mystery  Romance  Sci-Fi  Thriller  War  Western  \n",
       "0        0        0       0         0    0        0  \n",
       "1        0        0       0         1    0        0  \n",
       "2        0        0       0         1    0        0  \n",
       "3        0        0       0         0    0        0  \n",
       "4        0        0       0         1    0        0  \n",
       "\n",
       "[5 rows x 24 columns]"
      ]
     },
     "execution_count": 11,
     "metadata": {},
     "output_type": "execute_result"
    }
   ],
   "source": [
    "movies.head()"
   ]
  },
  {
   "cell_type": "code",
   "execution_count": 12,
   "id": "ac78cdd9",
   "metadata": {},
   "outputs": [
    {
     "name": "stdout",
     "output_type": "stream",
     "text": [
      "Jumlah data film:  1682\n",
      "Jumlah data pengunjung:  943\n",
      "Jumlah data penayangan:  100000\n"
     ]
    }
   ],
   "source": [
    "print('Jumlah data film: ', len(movies.movie_id.unique()))\n",
    "print('Jumlah data pengunjung: ', len(users.user_id.unique()))\n",
    "print('Jumlah data penayangan: ', len(ratings.user_id))"
   ]
  },
  {
   "cell_type": "markdown",
   "id": "898ea277",
   "metadata": {},
   "source": [
    "Sampai di sini, apakah Anda melihat sesuatu yang kurang tepat pada dataset di atas? Yup, hal tersebut terdapat pada fitur user_id dan movie_id yang dimulai dari angka satu. Agar dapat memudahkan proses perhitungan dan menyelaraskan dengan format komputasi yang ada, mari kita ubah geser urutannya dimulai dari nol. Selain itu, kita juga perlu memisahkan tahun rilis dari masing-masing film yang kelak akan digunakan pada proses pelatihan. Untuk melakukan kedua proses tersebut, gunakanlah kode di bawah ini."
   ]
  },
  {
   "cell_type": "code",
   "execution_count": 13,
   "id": "cea20a5b",
   "metadata": {},
   "outputs": [],
   "source": [
    "users[\"user_id\"] = users[\"user_id\"].apply(lambda x: str(x-1))\n",
    "movies[\"movie_id\"] = movies[\"movie_id\"].apply(lambda x: str(x-1))\n",
    "movies[\"year\"] = movies['release_date'].apply(lambda x: str(x).split('-')[-1])\n",
    "ratings[\"movie_id\"] = ratings[\"movie_id\"].apply(lambda x: str(x-1))\n",
    "ratings[\"user_id\"] = ratings[\"user_id\"].apply(lambda x: str(x-1))\n",
    "ratings[\"rating\"] = ratings[\"rating\"].apply(lambda x: float(x))"
   ]
  },
  {
   "cell_type": "markdown",
   "id": "49f7691f",
   "metadata": {},
   "source": [
    "Sebagai tahapan eksplorasi data, alangkah baiknya jika kita juga mengetahui jumlah genre yang ada sebagai informasi tambahan ketika melakukan modelling khususnya collaborative filtering."
   ]
  },
  {
   "cell_type": "code",
   "execution_count": 14,
   "id": "2300c493",
   "metadata": {},
   "outputs": [
    {
     "data": {
      "text/plain": [
       "{'genre_unknown': 2,\n",
       " 'Action': 251,\n",
       " 'Adventure': 135,\n",
       " 'Animation': 42,\n",
       " 'Children': 122,\n",
       " 'Comedy': 505,\n",
       " 'Crime': 109,\n",
       " 'Documentary': 50,\n",
       " 'Drama': 725,\n",
       " 'Fantasy': 22,\n",
       " 'Film-Noir': 24,\n",
       " 'Horror': 92,\n",
       " 'Musical': 56,\n",
       " 'Mystery': 61,\n",
       " 'Romance': 247,\n",
       " 'Sci-Fi': 101,\n",
       " 'Thriller': 251,\n",
       " 'War': 71,\n",
       " 'Western': 27}"
      ]
     },
     "execution_count": 14,
     "metadata": {},
     "output_type": "execute_result"
    }
   ],
   "source": [
    "genre_occurences = movies[genre_cols].sum().to_dict()\n",
    "genre_occurences"
   ]
  },
  {
   "cell_type": "markdown",
   "id": "af43e37f",
   "metadata": {},
   "source": [
    "Lalu, apakah Anda masih ingat bahwa genre dari masing-masing film yang ada berupa data biner? Hal tersebut akan menyulitkan proses pelatihan karena nantinya kita akan melakukan proses embeddings seperti pada modul Natural Language Processing sebelumnya. Oleh karena itu, kita perlu membuat sebuah fungsi yang dapat menggabungkan genre menjadi satu buah string. "
   ]
  },
  {
   "cell_type": "code",
   "execution_count": 15,
   "id": "ada8c381",
   "metadata": {},
   "outputs": [],
   "source": [
    "def mark_genres(movies, genres):\n",
    "  def get_random_genre(gs):\n",
    "    active = [genre for genre, g in zip(genres, gs) if g==1]\n",
    "    if len(active) == 0:\n",
    "      return 'Other'\n",
    "    return np.random.choice(active)\n",
    "  def get_all_genres(gs):\n",
    "    active = [genre for genre, g in zip(genres, gs) if g==1]\n",
    "    if len(active) == 0:\n",
    "      return 'Other'\n",
    "    return '-'.join(active)\n",
    "  movies['genre'] = [\n",
    "      get_random_genre(gs) for gs in zip(*[movies[genre] for genre in genres])]\n",
    "  movies['all_genres'] = [\n",
    "      get_all_genres(gs) for gs in zip(*[movies[genre] for genre in genres])]\n",
    " \n",
    "mark_genres(movies, genre_cols)"
   ]
  },
  {
   "cell_type": "code",
   "execution_count": 16,
   "id": "07d70ce5",
   "metadata": {},
   "outputs": [
    {
     "data": {
      "text/plain": [
       "0       Animation-Children-Comedy\n",
       "1       Action-Adventure-Thriller\n",
       "2                        Thriller\n",
       "3             Action-Comedy-Drama\n",
       "4            Crime-Drama-Thriller\n",
       "                  ...            \n",
       "1677                        Drama\n",
       "1678             Romance-Thriller\n",
       "1679                Drama-Romance\n",
       "1680                       Comedy\n",
       "1681                        Drama\n",
       "Name: all_genres, Length: 1682, dtype: object"
      ]
     },
     "execution_count": 16,
     "metadata": {},
     "output_type": "execute_result"
    }
   ],
   "source": [
    "movies[\"all_genres\"]"
   ]
  },
  {
   "cell_type": "code",
   "execution_count": 17,
   "id": "30e46a1a",
   "metadata": {},
   "outputs": [],
   "source": [
    "movielens = ratings.merge(movies, on='movie_id').merge(users, on='user_id')"
   ]
  },
  {
   "cell_type": "code",
   "execution_count": 19,
   "id": "7e4a4612",
   "metadata": {},
   "outputs": [
    {
     "data": {
      "text/plain": [
       "(100000, 34)"
      ]
     },
     "execution_count": 19,
     "metadata": {},
     "output_type": "execute_result"
    }
   ],
   "source": [
    "movielens.shape"
   ]
  },
  {
   "cell_type": "code",
   "execution_count": 20,
   "id": "85544fc9",
   "metadata": {},
   "outputs": [],
   "source": [
    "pd.options.display.max_rows = 10\n",
    "pd.options.display.float_format = '{:.3f}'.format\n",
    "def mask(df, key, function):\n",
    "  \"\"\"Returns a filtered dataframe, by applying function to key\"\"\"\n",
    "  return df[function(df[key])]\n",
    " \n",
    "def flatten_cols(df):\n",
    "  df.columns = [' '.join(col).strip() for col in df.columns.values]\n",
    "  return df\n",
    " \n",
    "pd.DataFrame.mask = mask\n",
    "pd.DataFrame.flatten_cols = flatten_cols"
   ]
  },
  {
   "cell_type": "markdown",
   "id": "f1c26030",
   "metadata": {},
   "source": [
    "Secara keseluruhan, kode tersebut memiliki dua tujuan utama yaitu sebagai berikut:\n",
    "\n",
    "1. **Pengaturan Opsi Tampilan**  \n",
    "   Bagian pertama dari kode, yaitu `pd.options.display.max_rows` dan `pd.options.display.float_format` bertujuan untuk mengatur tampilan default saat kita mencetak atau menampilkan DataFrame menggunakan library **pandas**.  \n",
    "   - Dengan mengatur `max_rows`, kita membatasi jumlah baris yang akan ditampilkan secara default.  \n",
    "   - Dengan `float_format`, kita mengatur format tampilan untuk nilai floating point dalam DataFrame.  \n",
    "\n",
    "2. **Penambahan Fungsi-Fungsi Manipulasi DataFrame**  \n",
    "   Bagian kedua dari kode mendefinisikan dua fungsi, yaitu `mask` dan `flatten_cols`, dan menambahkannya ke objek DataFrame dari library **pandas**. Ini memperluas fungsionalitas bawaan DataFrame dengan fungsi-fungsi baru yang dapat digunakan untuk manipulasi data, yaitu:  \n",
    "   - **mask** → untuk memfilter DataFrame berdasarkan kriteria yang diberikan pada kolom tertentu.  \n",
    "   - **flatten_cols** → untuk menggabungkan multi-indeks kolom pada DataFrame menjadi satu level sehingga mempermudah manipulasi dan analisis data.  \n"
   ]
  },
  {
   "cell_type": "code",
   "execution_count": 21,
   "id": "718319e3",
   "metadata": {},
   "outputs": [
    {
     "data": {
      "text/html": [
       "<div>\n",
       "<style scoped>\n",
       "    .dataframe tbody tr th:only-of-type {\n",
       "        vertical-align: middle;\n",
       "    }\n",
       "\n",
       "    .dataframe tbody tr th {\n",
       "        vertical-align: top;\n",
       "    }\n",
       "\n",
       "    .dataframe thead th {\n",
       "        text-align: right;\n",
       "    }\n",
       "</style>\n",
       "<table border=\"1\" class=\"dataframe\">\n",
       "  <thead>\n",
       "    <tr style=\"text-align: right;\">\n",
       "      <th></th>\n",
       "      <th>user_id</th>\n",
       "      <th>age</th>\n",
       "      <th>sex</th>\n",
       "      <th>occupation</th>\n",
       "      <th>zip_code</th>\n",
       "    </tr>\n",
       "  </thead>\n",
       "  <tbody>\n",
       "    <tr>\n",
       "      <th>count</th>\n",
       "      <td>943</td>\n",
       "      <td>943.000</td>\n",
       "      <td>943</td>\n",
       "      <td>943</td>\n",
       "      <td>943</td>\n",
       "    </tr>\n",
       "    <tr>\n",
       "      <th>unique</th>\n",
       "      <td>943</td>\n",
       "      <td>NaN</td>\n",
       "      <td>2</td>\n",
       "      <td>21</td>\n",
       "      <td>795</td>\n",
       "    </tr>\n",
       "    <tr>\n",
       "      <th>top</th>\n",
       "      <td>0</td>\n",
       "      <td>NaN</td>\n",
       "      <td>M</td>\n",
       "      <td>student</td>\n",
       "      <td>55414</td>\n",
       "    </tr>\n",
       "    <tr>\n",
       "      <th>freq</th>\n",
       "      <td>1</td>\n",
       "      <td>NaN</td>\n",
       "      <td>670</td>\n",
       "      <td>196</td>\n",
       "      <td>9</td>\n",
       "    </tr>\n",
       "    <tr>\n",
       "      <th>mean</th>\n",
       "      <td>NaN</td>\n",
       "      <td>34.052</td>\n",
       "      <td>NaN</td>\n",
       "      <td>NaN</td>\n",
       "      <td>NaN</td>\n",
       "    </tr>\n",
       "    <tr>\n",
       "      <th>...</th>\n",
       "      <td>...</td>\n",
       "      <td>...</td>\n",
       "      <td>...</td>\n",
       "      <td>...</td>\n",
       "      <td>...</td>\n",
       "    </tr>\n",
       "    <tr>\n",
       "      <th>min</th>\n",
       "      <td>NaN</td>\n",
       "      <td>7.000</td>\n",
       "      <td>NaN</td>\n",
       "      <td>NaN</td>\n",
       "      <td>NaN</td>\n",
       "    </tr>\n",
       "    <tr>\n",
       "      <th>25%</th>\n",
       "      <td>NaN</td>\n",
       "      <td>25.000</td>\n",
       "      <td>NaN</td>\n",
       "      <td>NaN</td>\n",
       "      <td>NaN</td>\n",
       "    </tr>\n",
       "    <tr>\n",
       "      <th>50%</th>\n",
       "      <td>NaN</td>\n",
       "      <td>31.000</td>\n",
       "      <td>NaN</td>\n",
       "      <td>NaN</td>\n",
       "      <td>NaN</td>\n",
       "    </tr>\n",
       "    <tr>\n",
       "      <th>75%</th>\n",
       "      <td>NaN</td>\n",
       "      <td>43.000</td>\n",
       "      <td>NaN</td>\n",
       "      <td>NaN</td>\n",
       "      <td>NaN</td>\n",
       "    </tr>\n",
       "    <tr>\n",
       "      <th>max</th>\n",
       "      <td>NaN</td>\n",
       "      <td>73.000</td>\n",
       "      <td>NaN</td>\n",
       "      <td>NaN</td>\n",
       "      <td>NaN</td>\n",
       "    </tr>\n",
       "  </tbody>\n",
       "</table>\n",
       "<p>11 rows × 5 columns</p>\n",
       "</div>"
      ],
      "text/plain": [
       "       user_id     age  sex occupation zip_code\n",
       "count      943 943.000  943        943      943\n",
       "unique     943     NaN    2         21      795\n",
       "top          0     NaN    M    student    55414\n",
       "freq         1     NaN  670        196        9\n",
       "mean       NaN  34.052  NaN        NaN      NaN\n",
       "...        ...     ...  ...        ...      ...\n",
       "min        NaN   7.000  NaN        NaN      NaN\n",
       "25%        NaN  25.000  NaN        NaN      NaN\n",
       "50%        NaN  31.000  NaN        NaN      NaN\n",
       "75%        NaN  43.000  NaN        NaN      NaN\n",
       "max        NaN  73.000  NaN        NaN      NaN\n",
       "\n",
       "[11 rows x 5 columns]"
      ]
     },
     "execution_count": 21,
     "metadata": {},
     "output_type": "execute_result"
    }
   ],
   "source": [
    "users.describe(include=\"all\")"
   ]
  },
  {
   "cell_type": "code",
   "execution_count": 22,
   "id": "df759030",
   "metadata": {},
   "outputs": [],
   "source": [
    "# Membuat filter untuk melakukan slicing data.\n",
    "occupation_filter = alt.selection_point(fields=[\"occupation\"])\n",
    "occupation_chart = alt.Chart().mark_bar().encode(\n",
    "    x=\"count()\",\n",
    "    y=alt.Y(\"occupation:N\"),\n",
    "    color=alt.condition(\n",
    "        occupation_filter,\n",
    "        alt.Color(\"occupation:N\", scale=alt.Scale(scheme='category20')),\n",
    "        alt.value(\"lightgray\")),\n",
    ").properties(width=300, height=300, selection=occupation_filter)\n",
    " \n",
    "# Fungsi yang dapat membuat histogram dari data yang sudah difilter.\n",
    "def filtered_hist(field, label, filter):\n",
    "  base = alt.Chart().mark_bar().encode(\n",
    "      x=alt.X(field, bin=alt.Bin(maxbins=10), title=label),\n",
    "      y=\"count()\",\n",
    "  ).properties(\n",
    "      width=300,\n",
    "  )\n",
    "  return alt.layer(\n",
    "      base.transform_filter(filter),\n",
    "      base.encode(color=alt.value('lightgray'), opacity=alt.value(.7)),\n",
    "  ).resolve_scale(y='independent')"
   ]
  },
  {
   "cell_type": "code",
   "execution_count": 24,
   "id": "37cabc39",
   "metadata": {},
   "outputs": [
    {
     "name": "stderr",
     "output_type": "stream",
     "text": [
      "/tmp/ipykernel_5307/1727027246.py:1: AltairDeprecationWarning: \n",
      "Deprecated since `altair=5.0.0`. Use selection_point instead.\n",
      "  occupation_filter = alt.selection_multi(fields=[\"occupation\"])\n",
      "/tmp/ipykernel_5307/1727027246.py:9: AltairDeprecationWarning: \n",
      "Deprecated since `altair=5.0.0`. Use add_params instead.\n",
      "  ).add_selection(occupation_filter) # Move selection here\n"
     ]
    },
    {
     "ename": "ValueError",
     "evalue": "Unable to determine data type for the field \"rating count\"; verify that the field name is not misspelled. If you are referencing a field from a transform, also confirm that the data type is specified correctly.",
     "output_type": "error",
     "traceback": [
      "\u001b[31m---------------------------------------------------------------------------\u001b[39m",
      "\u001b[31mValueError\u001b[39m                                Traceback (most recent call last)",
      "\u001b[32m~/miniconda3/envs/tf220/lib/python3.11/site-packages/altair/vegalite/v5/api.py\u001b[39m in \u001b[36m?\u001b[39m\u001b[34m(self, *args, **kwds)\u001b[39m\n\u001b[32m   3674\u001b[39m         \u001b[38;5;66;03m# see https://github.com/ipython/ipython/issues/11038\u001b[39;00m\n\u001b[32m   3675\u001b[39m         \u001b[38;5;28;01mtry\u001b[39;00m:\n\u001b[32m   3676\u001b[39m             dct = self.to_dict(context={\u001b[33m\"pre_transform\"\u001b[39m: \u001b[38;5;28;01mFalse\u001b[39;00m})\n\u001b[32m   3677\u001b[39m         \u001b[38;5;28;01mexcept\u001b[39;00m Exception:\n\u001b[32m-> \u001b[39m\u001b[32m3678\u001b[39m             utils.display_traceback(in_ipython=\u001b[38;5;28;01mTrue\u001b[39;00m)\n\u001b[32m   3679\u001b[39m             \u001b[38;5;28;01mreturn\u001b[39;00m {}\n\u001b[32m   3680\u001b[39m         \u001b[38;5;28;01melse\u001b[39;00m:\n\u001b[32m   3681\u001b[39m             \u001b[38;5;28;01mif\u001b[39;00m renderer := renderers.get():\n",
      "\u001b[32m~/miniconda3/envs/tf220/lib/python3.11/site-packages/altair/vegalite/v5/api.py\u001b[39m in \u001b[36m?\u001b[39m\u001b[34m(self, validate, format, ignore, context)\u001b[39m\n\u001b[32m   2000\u001b[39m \n\u001b[32m   2001\u001b[39m         \u001b[38;5;66;03m# remaining to_dict calls are not at top level\u001b[39;00m\n\u001b[32m   2002\u001b[39m         context[\u001b[33m\"top_level\"\u001b[39m] = \u001b[38;5;28;01mFalse\u001b[39;00m\n\u001b[32m   2003\u001b[39m \n\u001b[32m-> \u001b[39m\u001b[32m2004\u001b[39m         vegalite_spec: Any = _top_schema_base(super(TopLevelMixin, copy)).to_dict(\n\u001b[32m   2005\u001b[39m             validate=validate, ignore=ignore, context=dict(context, pre_transform=\u001b[38;5;28;01mFalse\u001b[39;00m)\n\u001b[32m   2006\u001b[39m         )\n\u001b[32m   2007\u001b[39m \n",
      "\u001b[32m~/miniconda3/envs/tf220/lib/python3.11/site-packages/altair/utils/schemapi.py\u001b[39m in \u001b[36m?\u001b[39m\u001b[34m(self, validate, ignore, context)\u001b[39m\n\u001b[32m   1159\u001b[39m                 kwds[\u001b[33m\"mark\"\u001b[39m] = {\u001b[33m\"type\"\u001b[39m: mark}\n\u001b[32m   1160\u001b[39m         \u001b[38;5;28;01melse\u001b[39;00m:\n\u001b[32m   1161\u001b[39m             msg = \u001b[33mf\"{type(self)} instance has both a value and properties : cannot serialize to dict\"\u001b[39m\n\u001b[32m   1162\u001b[39m             \u001b[38;5;28;01mraise\u001b[39;00m ValueError(msg)\n\u001b[32m-> \u001b[39m\u001b[32m1163\u001b[39m         result = _todict(kwds, context=context, **opts)\n\u001b[32m   1164\u001b[39m         \u001b[38;5;28;01mif\u001b[39;00m validate:\n\u001b[32m   1165\u001b[39m             \u001b[38;5;66;03m# NOTE: Don't raise `from err`, see `SchemaValidationError` doc\u001b[39;00m\n\u001b[32m   1166\u001b[39m             \u001b[38;5;28;01mtry\u001b[39;00m:\n",
      "\u001b[32m~/miniconda3/envs/tf220/lib/python3.11/site-packages/altair/utils/schemapi.py\u001b[39m in \u001b[36m?\u001b[39m\u001b[34m(obj, context, np_opt, pd_opt)\u001b[39m\n\u001b[32m    549\u001b[39m         \u001b[38;5;28;01mreturn\u001b[39;00m obj.to_dict(validate=\u001b[38;5;28;01mFalse\u001b[39;00m, context=context)\n\u001b[32m    550\u001b[39m     \u001b[38;5;28;01melif\u001b[39;00m isinstance(obj, (list, tuple)):\n\u001b[32m    551\u001b[39m         \u001b[38;5;28;01mreturn\u001b[39;00m [_todict(v, context, np_opt, pd_opt) \u001b[38;5;28;01mfor\u001b[39;00m v \u001b[38;5;28;01min\u001b[39;00m obj]\n\u001b[32m    552\u001b[39m     \u001b[38;5;28;01melif\u001b[39;00m isinstance(obj, dict):\n\u001b[32m--> \u001b[39m\u001b[32m553\u001b[39m         return {\n\u001b[32m    554\u001b[39m             k: _todict(v, context, np_opt, pd_opt)\n\u001b[32m    555\u001b[39m             \u001b[38;5;28;01mfor\u001b[39;00m k, v \u001b[38;5;28;01min\u001b[39;00m obj.items()\n\u001b[32m    556\u001b[39m             \u001b[38;5;28;01mif\u001b[39;00m v \u001b[38;5;28;01mis\u001b[39;00m \u001b[38;5;28;01mnot\u001b[39;00m Undefined\n",
      "\u001b[32m~/miniconda3/envs/tf220/lib/python3.11/site-packages/altair/utils/schemapi.py\u001b[39m in \u001b[36m?\u001b[39m\u001b[34m(.0)\u001b[39m\n\u001b[32m    553\u001b[39m \u001b[38;5;28;01mdef\u001b[39;00m _todict(obj: Any, context: dict[str, Any] | \u001b[38;5;28;01mNone\u001b[39;00m, np_opt: Any, pd_opt: Any) -> Any:  \u001b[38;5;66;03m# noqa: C901\u001b[39;00m\n\u001b[32m--> \u001b[39m\u001b[32m554\u001b[39m     \u001b[33m\"\"\"Convert an object to a dict representation.\"\"\"\u001b[39m\n\u001b[32m    555\u001b[39m     \u001b[38;5;28;01mif\u001b[39;00m np_opt \u001b[38;5;28;01mis\u001b[39;00m \u001b[38;5;28;01mnot\u001b[39;00m \u001b[38;5;28;01mNone\u001b[39;00m:\n\u001b[32m    556\u001b[39m         np = np_opt\n\u001b[32m    557\u001b[39m         \u001b[38;5;28;01mif\u001b[39;00m isinstance(obj, np.ndarray):\n",
      "\u001b[32m~/miniconda3/envs/tf220/lib/python3.11/site-packages/altair/utils/schemapi.py\u001b[39m in \u001b[36m?\u001b[39m\u001b[34m(obj, context, np_opt, pd_opt)\u001b[39m\n\u001b[32m    547\u001b[39m             \u001b[38;5;28;01mreturn\u001b[39;00m result\n\u001b[32m    548\u001b[39m     \u001b[38;5;28;01mif\u001b[39;00m isinstance(obj, SchemaBase):\n\u001b[32m    549\u001b[39m         \u001b[38;5;28;01mreturn\u001b[39;00m obj.to_dict(validate=\u001b[38;5;28;01mFalse\u001b[39;00m, context=context)\n\u001b[32m    550\u001b[39m     \u001b[38;5;28;01melif\u001b[39;00m isinstance(obj, (list, tuple)):\n\u001b[32m--> \u001b[39m\u001b[32m551\u001b[39m         \u001b[38;5;28;01mreturn\u001b[39;00m [_todict(v, context, np_opt, pd_opt) \u001b[38;5;28;01mfor\u001b[39;00m v \u001b[38;5;28;01min\u001b[39;00m obj]\n\u001b[32m    552\u001b[39m     \u001b[38;5;28;01melif\u001b[39;00m isinstance(obj, dict):\n\u001b[32m    553\u001b[39m         return {\n\u001b[32m    554\u001b[39m             k: _todict(v, context, np_opt, pd_opt)\n",
      "\u001b[32m~/miniconda3/envs/tf220/lib/python3.11/site-packages/altair/utils/schemapi.py\u001b[39m in \u001b[36m?\u001b[39m\u001b[34m(.0)\u001b[39m\n\u001b[32m--> \u001b[39m\u001b[32m551\u001b[39m \u001b[38;5;28;01mdef\u001b[39;00m _todict(obj: Any, context: dict[str, Any] | \u001b[38;5;28;01mNone\u001b[39;00m, np_opt: Any, pd_opt: Any) -> Any:  \u001b[38;5;66;03m# noqa: C901\u001b[39;00m\n\u001b[32m    552\u001b[39m     \u001b[33m\"\"\"Convert an object to a dict representation.\"\"\"\u001b[39m\n\u001b[32m    553\u001b[39m     \u001b[38;5;28;01mif\u001b[39;00m np_opt \u001b[38;5;28;01mis\u001b[39;00m \u001b[38;5;28;01mnot\u001b[39;00m \u001b[38;5;28;01mNone\u001b[39;00m:\n\u001b[32m    554\u001b[39m         np = np_opt\n",
      "\u001b[32m~/miniconda3/envs/tf220/lib/python3.11/site-packages/altair/utils/schemapi.py\u001b[39m in \u001b[36m?\u001b[39m\u001b[34m(obj, context, np_opt, pd_opt)\u001b[39m\n\u001b[32m    545\u001b[39m                 \u001b[38;5;66;03m# See https://github.com/vega/altair/issues/1027 for why this is necessary.\u001b[39;00m\n\u001b[32m    546\u001b[39m                 result += \u001b[33m\"T00:00:00\"\u001b[39m\n\u001b[32m    547\u001b[39m             \u001b[38;5;28;01mreturn\u001b[39;00m result\n\u001b[32m    548\u001b[39m     \u001b[38;5;28;01mif\u001b[39;00m isinstance(obj, SchemaBase):\n\u001b[32m--> \u001b[39m\u001b[32m549\u001b[39m         \u001b[38;5;28;01mreturn\u001b[39;00m obj.to_dict(validate=\u001b[38;5;28;01mFalse\u001b[39;00m, context=context)\n\u001b[32m    550\u001b[39m     \u001b[38;5;28;01melif\u001b[39;00m isinstance(obj, (list, tuple)):\n\u001b[32m    551\u001b[39m         \u001b[38;5;28;01mreturn\u001b[39;00m [_todict(v, context, np_opt, pd_opt) \u001b[38;5;28;01mfor\u001b[39;00m v \u001b[38;5;28;01min\u001b[39;00m obj]\n\u001b[32m    552\u001b[39m     \u001b[38;5;28;01melif\u001b[39;00m isinstance(obj, dict):\n",
      "\u001b[32m~/miniconda3/envs/tf220/lib/python3.11/site-packages/altair/vegalite/v5/api.py\u001b[39m in \u001b[36m?\u001b[39m\u001b[34m(self, validate, format, ignore, context)\u001b[39m\n\u001b[32m   2000\u001b[39m \n\u001b[32m   2001\u001b[39m         \u001b[38;5;66;03m# remaining to_dict calls are not at top level\u001b[39;00m\n\u001b[32m   2002\u001b[39m         context[\u001b[33m\"top_level\"\u001b[39m] = \u001b[38;5;28;01mFalse\u001b[39;00m\n\u001b[32m   2003\u001b[39m \n\u001b[32m-> \u001b[39m\u001b[32m2004\u001b[39m         vegalite_spec: Any = _top_schema_base(super(TopLevelMixin, copy)).to_dict(\n\u001b[32m   2005\u001b[39m             validate=validate, ignore=ignore, context=dict(context, pre_transform=\u001b[38;5;28;01mFalse\u001b[39;00m)\n\u001b[32m   2006\u001b[39m         )\n\u001b[32m   2007\u001b[39m \n",
      "\u001b[32m~/miniconda3/envs/tf220/lib/python3.11/site-packages/altair/utils/schemapi.py\u001b[39m in \u001b[36m?\u001b[39m\u001b[34m(self, validate, ignore, context)\u001b[39m\n\u001b[32m   1159\u001b[39m                 kwds[\u001b[33m\"mark\"\u001b[39m] = {\u001b[33m\"type\"\u001b[39m: mark}\n\u001b[32m   1160\u001b[39m         \u001b[38;5;28;01melse\u001b[39;00m:\n\u001b[32m   1161\u001b[39m             msg = \u001b[33mf\"{type(self)} instance has both a value and properties : cannot serialize to dict\"\u001b[39m\n\u001b[32m   1162\u001b[39m             \u001b[38;5;28;01mraise\u001b[39;00m ValueError(msg)\n\u001b[32m-> \u001b[39m\u001b[32m1163\u001b[39m         result = _todict(kwds, context=context, **opts)\n\u001b[32m   1164\u001b[39m         \u001b[38;5;28;01mif\u001b[39;00m validate:\n\u001b[32m   1165\u001b[39m             \u001b[38;5;66;03m# NOTE: Don't raise `from err`, see `SchemaValidationError` doc\u001b[39;00m\n\u001b[32m   1166\u001b[39m             \u001b[38;5;28;01mtry\u001b[39;00m:\n",
      "\u001b[32m~/miniconda3/envs/tf220/lib/python3.11/site-packages/altair/utils/schemapi.py\u001b[39m in \u001b[36m?\u001b[39m\u001b[34m(obj, context, np_opt, pd_opt)\u001b[39m\n\u001b[32m    549\u001b[39m         \u001b[38;5;28;01mreturn\u001b[39;00m obj.to_dict(validate=\u001b[38;5;28;01mFalse\u001b[39;00m, context=context)\n\u001b[32m    550\u001b[39m     \u001b[38;5;28;01melif\u001b[39;00m isinstance(obj, (list, tuple)):\n\u001b[32m    551\u001b[39m         \u001b[38;5;28;01mreturn\u001b[39;00m [_todict(v, context, np_opt, pd_opt) \u001b[38;5;28;01mfor\u001b[39;00m v \u001b[38;5;28;01min\u001b[39;00m obj]\n\u001b[32m    552\u001b[39m     \u001b[38;5;28;01melif\u001b[39;00m isinstance(obj, dict):\n\u001b[32m--> \u001b[39m\u001b[32m553\u001b[39m         return {\n\u001b[32m    554\u001b[39m             k: _todict(v, context, np_opt, pd_opt)\n\u001b[32m    555\u001b[39m             \u001b[38;5;28;01mfor\u001b[39;00m k, v \u001b[38;5;28;01min\u001b[39;00m obj.items()\n\u001b[32m    556\u001b[39m             \u001b[38;5;28;01mif\u001b[39;00m v \u001b[38;5;28;01mis\u001b[39;00m \u001b[38;5;28;01mnot\u001b[39;00m Undefined\n",
      "\u001b[32m~/miniconda3/envs/tf220/lib/python3.11/site-packages/altair/utils/schemapi.py\u001b[39m in \u001b[36m?\u001b[39m\u001b[34m(.0)\u001b[39m\n\u001b[32m    553\u001b[39m \u001b[38;5;28;01mdef\u001b[39;00m _todict(obj: Any, context: dict[str, Any] | \u001b[38;5;28;01mNone\u001b[39;00m, np_opt: Any, pd_opt: Any) -> Any:  \u001b[38;5;66;03m# noqa: C901\u001b[39;00m\n\u001b[32m--> \u001b[39m\u001b[32m554\u001b[39m     \u001b[33m\"\"\"Convert an object to a dict representation.\"\"\"\u001b[39m\n\u001b[32m    555\u001b[39m     \u001b[38;5;28;01mif\u001b[39;00m np_opt \u001b[38;5;28;01mis\u001b[39;00m \u001b[38;5;28;01mnot\u001b[39;00m \u001b[38;5;28;01mNone\u001b[39;00m:\n\u001b[32m    556\u001b[39m         np = np_opt\n\u001b[32m    557\u001b[39m         \u001b[38;5;28;01mif\u001b[39;00m isinstance(obj, np.ndarray):\n",
      "\u001b[32m~/miniconda3/envs/tf220/lib/python3.11/site-packages/altair/utils/schemapi.py\u001b[39m in \u001b[36m?\u001b[39m\u001b[34m(obj, context, np_opt, pd_opt)\u001b[39m\n\u001b[32m    547\u001b[39m             \u001b[38;5;28;01mreturn\u001b[39;00m result\n\u001b[32m    548\u001b[39m     \u001b[38;5;28;01mif\u001b[39;00m isinstance(obj, SchemaBase):\n\u001b[32m    549\u001b[39m         \u001b[38;5;28;01mreturn\u001b[39;00m obj.to_dict(validate=\u001b[38;5;28;01mFalse\u001b[39;00m, context=context)\n\u001b[32m    550\u001b[39m     \u001b[38;5;28;01melif\u001b[39;00m isinstance(obj, (list, tuple)):\n\u001b[32m--> \u001b[39m\u001b[32m551\u001b[39m         \u001b[38;5;28;01mreturn\u001b[39;00m [_todict(v, context, np_opt, pd_opt) \u001b[38;5;28;01mfor\u001b[39;00m v \u001b[38;5;28;01min\u001b[39;00m obj]\n\u001b[32m    552\u001b[39m     \u001b[38;5;28;01melif\u001b[39;00m isinstance(obj, dict):\n\u001b[32m    553\u001b[39m         return {\n\u001b[32m    554\u001b[39m             k: _todict(v, context, np_opt, pd_opt)\n",
      "\u001b[32m~/miniconda3/envs/tf220/lib/python3.11/site-packages/altair/utils/schemapi.py\u001b[39m in \u001b[36m?\u001b[39m\u001b[34m(.0)\u001b[39m\n\u001b[32m--> \u001b[39m\u001b[32m551\u001b[39m \u001b[38;5;28;01mdef\u001b[39;00m _todict(obj: Any, context: dict[str, Any] | \u001b[38;5;28;01mNone\u001b[39;00m, np_opt: Any, pd_opt: Any) -> Any:  \u001b[38;5;66;03m# noqa: C901\u001b[39;00m\n\u001b[32m    552\u001b[39m     \u001b[33m\"\"\"Convert an object to a dict representation.\"\"\"\u001b[39m\n\u001b[32m    553\u001b[39m     \u001b[38;5;28;01mif\u001b[39;00m np_opt \u001b[38;5;28;01mis\u001b[39;00m \u001b[38;5;28;01mnot\u001b[39;00m \u001b[38;5;28;01mNone\u001b[39;00m:\n\u001b[32m    554\u001b[39m         np = np_opt\n",
      "\u001b[32m~/miniconda3/envs/tf220/lib/python3.11/site-packages/altair/utils/schemapi.py\u001b[39m in \u001b[36m?\u001b[39m\u001b[34m(obj, context, np_opt, pd_opt)\u001b[39m\n\u001b[32m    545\u001b[39m                 \u001b[38;5;66;03m# See https://github.com/vega/altair/issues/1027 for why this is necessary.\u001b[39;00m\n\u001b[32m    546\u001b[39m                 result += \u001b[33m\"T00:00:00\"\u001b[39m\n\u001b[32m    547\u001b[39m             \u001b[38;5;28;01mreturn\u001b[39;00m result\n\u001b[32m    548\u001b[39m     \u001b[38;5;28;01mif\u001b[39;00m isinstance(obj, SchemaBase):\n\u001b[32m--> \u001b[39m\u001b[32m549\u001b[39m         \u001b[38;5;28;01mreturn\u001b[39;00m obj.to_dict(validate=\u001b[38;5;28;01mFalse\u001b[39;00m, context=context)\n\u001b[32m    550\u001b[39m     \u001b[38;5;28;01melif\u001b[39;00m isinstance(obj, (list, tuple)):\n\u001b[32m    551\u001b[39m         \u001b[38;5;28;01mreturn\u001b[39;00m [_todict(v, context, np_opt, pd_opt) \u001b[38;5;28;01mfor\u001b[39;00m v \u001b[38;5;28;01min\u001b[39;00m obj]\n\u001b[32m    552\u001b[39m     \u001b[38;5;28;01melif\u001b[39;00m isinstance(obj, dict):\n",
      "\u001b[32m~/miniconda3/envs/tf220/lib/python3.11/site-packages/altair/vegalite/v5/api.py\u001b[39m in \u001b[36m?\u001b[39m\u001b[34m(self, validate, format, ignore, context)\u001b[39m\n\u001b[32m   4029\u001b[39m             \u001b[38;5;66;03m# for easier specification of datum encodings.\u001b[39;00m\n\u001b[32m   4030\u001b[39m             copy = self.copy(deep=\u001b[38;5;28;01mFalse\u001b[39;00m)\n\u001b[32m   4031\u001b[39m             copy.data = core.InlineData(values=[{}])\n\u001b[32m   4032\u001b[39m             \u001b[38;5;28;01mreturn\u001b[39;00m super(Chart, copy).to_dict(**kwds)\n\u001b[32m-> \u001b[39m\u001b[32m4033\u001b[39m         \u001b[38;5;28;01mreturn\u001b[39;00m super().to_dict(**kwds)\n",
      "\u001b[32m~/miniconda3/envs/tf220/lib/python3.11/site-packages/altair/vegalite/v5/api.py\u001b[39m in \u001b[36m?\u001b[39m\u001b[34m(self, validate, format, ignore, context)\u001b[39m\n\u001b[32m   2000\u001b[39m \n\u001b[32m   2001\u001b[39m         \u001b[38;5;66;03m# remaining to_dict calls are not at top level\u001b[39;00m\n\u001b[32m   2002\u001b[39m         context[\u001b[33m\"top_level\"\u001b[39m] = \u001b[38;5;28;01mFalse\u001b[39;00m\n\u001b[32m   2003\u001b[39m \n\u001b[32m-> \u001b[39m\u001b[32m2004\u001b[39m         vegalite_spec: Any = _top_schema_base(super(TopLevelMixin, copy)).to_dict(\n\u001b[32m   2005\u001b[39m             validate=validate, ignore=ignore, context=dict(context, pre_transform=\u001b[38;5;28;01mFalse\u001b[39;00m)\n\u001b[32m   2006\u001b[39m         )\n\u001b[32m   2007\u001b[39m \n",
      "\u001b[32m~/miniconda3/envs/tf220/lib/python3.11/site-packages/altair/utils/schemapi.py\u001b[39m in \u001b[36m?\u001b[39m\u001b[34m(self, validate, ignore, context)\u001b[39m\n\u001b[32m   1159\u001b[39m                 kwds[\u001b[33m\"mark\"\u001b[39m] = {\u001b[33m\"type\"\u001b[39m: mark}\n\u001b[32m   1160\u001b[39m         \u001b[38;5;28;01melse\u001b[39;00m:\n\u001b[32m   1161\u001b[39m             msg = \u001b[33mf\"{type(self)} instance has both a value and properties : cannot serialize to dict\"\u001b[39m\n\u001b[32m   1162\u001b[39m             \u001b[38;5;28;01mraise\u001b[39;00m ValueError(msg)\n\u001b[32m-> \u001b[39m\u001b[32m1163\u001b[39m         result = _todict(kwds, context=context, **opts)\n\u001b[32m   1164\u001b[39m         \u001b[38;5;28;01mif\u001b[39;00m validate:\n\u001b[32m   1165\u001b[39m             \u001b[38;5;66;03m# NOTE: Don't raise `from err`, see `SchemaValidationError` doc\u001b[39;00m\n\u001b[32m   1166\u001b[39m             \u001b[38;5;28;01mtry\u001b[39;00m:\n",
      "\u001b[32m~/miniconda3/envs/tf220/lib/python3.11/site-packages/altair/utils/schemapi.py\u001b[39m in \u001b[36m?\u001b[39m\u001b[34m(obj, context, np_opt, pd_opt)\u001b[39m\n\u001b[32m    549\u001b[39m         \u001b[38;5;28;01mreturn\u001b[39;00m obj.to_dict(validate=\u001b[38;5;28;01mFalse\u001b[39;00m, context=context)\n\u001b[32m    550\u001b[39m     \u001b[38;5;28;01melif\u001b[39;00m isinstance(obj, (list, tuple)):\n\u001b[32m    551\u001b[39m         \u001b[38;5;28;01mreturn\u001b[39;00m [_todict(v, context, np_opt, pd_opt) \u001b[38;5;28;01mfor\u001b[39;00m v \u001b[38;5;28;01min\u001b[39;00m obj]\n\u001b[32m    552\u001b[39m     \u001b[38;5;28;01melif\u001b[39;00m isinstance(obj, dict):\n\u001b[32m--> \u001b[39m\u001b[32m553\u001b[39m         return {\n\u001b[32m    554\u001b[39m             k: _todict(v, context, np_opt, pd_opt)\n\u001b[32m    555\u001b[39m             \u001b[38;5;28;01mfor\u001b[39;00m k, v \u001b[38;5;28;01min\u001b[39;00m obj.items()\n\u001b[32m    556\u001b[39m             \u001b[38;5;28;01mif\u001b[39;00m v \u001b[38;5;28;01mis\u001b[39;00m \u001b[38;5;28;01mnot\u001b[39;00m Undefined\n",
      "\u001b[32m~/miniconda3/envs/tf220/lib/python3.11/site-packages/altair/utils/schemapi.py\u001b[39m in \u001b[36m?\u001b[39m\u001b[34m(.0)\u001b[39m\n\u001b[32m    553\u001b[39m \u001b[38;5;28;01mdef\u001b[39;00m _todict(obj: Any, context: dict[str, Any] | \u001b[38;5;28;01mNone\u001b[39;00m, np_opt: Any, pd_opt: Any) -> Any:  \u001b[38;5;66;03m# noqa: C901\u001b[39;00m\n\u001b[32m--> \u001b[39m\u001b[32m554\u001b[39m     \u001b[33m\"\"\"Convert an object to a dict representation.\"\"\"\u001b[39m\n\u001b[32m    555\u001b[39m     \u001b[38;5;28;01mif\u001b[39;00m np_opt \u001b[38;5;28;01mis\u001b[39;00m \u001b[38;5;28;01mnot\u001b[39;00m \u001b[38;5;28;01mNone\u001b[39;00m:\n\u001b[32m    556\u001b[39m         np = np_opt\n\u001b[32m    557\u001b[39m         \u001b[38;5;28;01mif\u001b[39;00m isinstance(obj, np.ndarray):\n",
      "\u001b[32m~/miniconda3/envs/tf220/lib/python3.11/site-packages/altair/utils/schemapi.py\u001b[39m in \u001b[36m?\u001b[39m\u001b[34m(obj, context, np_opt, pd_opt)\u001b[39m\n\u001b[32m    545\u001b[39m                 \u001b[38;5;66;03m# See https://github.com/vega/altair/issues/1027 for why this is necessary.\u001b[39;00m\n\u001b[32m    546\u001b[39m                 result += \u001b[33m\"T00:00:00\"\u001b[39m\n\u001b[32m    547\u001b[39m             \u001b[38;5;28;01mreturn\u001b[39;00m result\n\u001b[32m    548\u001b[39m     \u001b[38;5;28;01mif\u001b[39;00m isinstance(obj, SchemaBase):\n\u001b[32m--> \u001b[39m\u001b[32m549\u001b[39m         \u001b[38;5;28;01mreturn\u001b[39;00m obj.to_dict(validate=\u001b[38;5;28;01mFalse\u001b[39;00m, context=context)\n\u001b[32m    550\u001b[39m     \u001b[38;5;28;01melif\u001b[39;00m isinstance(obj, (list, tuple)):\n\u001b[32m    551\u001b[39m         \u001b[38;5;28;01mreturn\u001b[39;00m [_todict(v, context, np_opt, pd_opt) \u001b[38;5;28;01mfor\u001b[39;00m v \u001b[38;5;28;01min\u001b[39;00m obj]\n\u001b[32m    552\u001b[39m     \u001b[38;5;28;01melif\u001b[39;00m isinstance(obj, dict):\n",
      "\u001b[32m~/miniconda3/envs/tf220/lib/python3.11/site-packages/altair/utils/schemapi.py\u001b[39m in \u001b[36m?\u001b[39m\u001b[34m(self, validate, ignore, context)\u001b[39m\n\u001b[32m   1159\u001b[39m                 kwds[\u001b[33m\"mark\"\u001b[39m] = {\u001b[33m\"type\"\u001b[39m: mark}\n\u001b[32m   1160\u001b[39m         \u001b[38;5;28;01melse\u001b[39;00m:\n\u001b[32m   1161\u001b[39m             msg = \u001b[33mf\"{type(self)} instance has both a value and properties : cannot serialize to dict\"\u001b[39m\n\u001b[32m   1162\u001b[39m             \u001b[38;5;28;01mraise\u001b[39;00m ValueError(msg)\n\u001b[32m-> \u001b[39m\u001b[32m1163\u001b[39m         result = _todict(kwds, context=context, **opts)\n\u001b[32m   1164\u001b[39m         \u001b[38;5;28;01mif\u001b[39;00m validate:\n\u001b[32m   1165\u001b[39m             \u001b[38;5;66;03m# NOTE: Don't raise `from err`, see `SchemaValidationError` doc\u001b[39;00m\n\u001b[32m   1166\u001b[39m             \u001b[38;5;28;01mtry\u001b[39;00m:\n",
      "\u001b[32m~/miniconda3/envs/tf220/lib/python3.11/site-packages/altair/utils/schemapi.py\u001b[39m in \u001b[36m?\u001b[39m\u001b[34m(obj, context, np_opt, pd_opt)\u001b[39m\n\u001b[32m    549\u001b[39m         \u001b[38;5;28;01mreturn\u001b[39;00m obj.to_dict(validate=\u001b[38;5;28;01mFalse\u001b[39;00m, context=context)\n\u001b[32m    550\u001b[39m     \u001b[38;5;28;01melif\u001b[39;00m isinstance(obj, (list, tuple)):\n\u001b[32m    551\u001b[39m         \u001b[38;5;28;01mreturn\u001b[39;00m [_todict(v, context, np_opt, pd_opt) \u001b[38;5;28;01mfor\u001b[39;00m v \u001b[38;5;28;01min\u001b[39;00m obj]\n\u001b[32m    552\u001b[39m     \u001b[38;5;28;01melif\u001b[39;00m isinstance(obj, dict):\n\u001b[32m--> \u001b[39m\u001b[32m553\u001b[39m         return {\n\u001b[32m    554\u001b[39m             k: _todict(v, context, np_opt, pd_opt)\n\u001b[32m    555\u001b[39m             \u001b[38;5;28;01mfor\u001b[39;00m k, v \u001b[38;5;28;01min\u001b[39;00m obj.items()\n\u001b[32m    556\u001b[39m             \u001b[38;5;28;01mif\u001b[39;00m v \u001b[38;5;28;01mis\u001b[39;00m \u001b[38;5;28;01mnot\u001b[39;00m Undefined\n",
      "\u001b[32m~/miniconda3/envs/tf220/lib/python3.11/site-packages/altair/utils/schemapi.py\u001b[39m in \u001b[36m?\u001b[39m\u001b[34m(.0)\u001b[39m\n\u001b[32m    553\u001b[39m \u001b[38;5;28;01mdef\u001b[39;00m _todict(obj: Any, context: dict[str, Any] | \u001b[38;5;28;01mNone\u001b[39;00m, np_opt: Any, pd_opt: Any) -> Any:  \u001b[38;5;66;03m# noqa: C901\u001b[39;00m\n\u001b[32m--> \u001b[39m\u001b[32m554\u001b[39m     \u001b[33m\"\"\"Convert an object to a dict representation.\"\"\"\u001b[39m\n\u001b[32m    555\u001b[39m     \u001b[38;5;28;01mif\u001b[39;00m np_opt \u001b[38;5;28;01mis\u001b[39;00m \u001b[38;5;28;01mnot\u001b[39;00m \u001b[38;5;28;01mNone\u001b[39;00m:\n\u001b[32m    556\u001b[39m         np = np_opt\n\u001b[32m    557\u001b[39m         \u001b[38;5;28;01mif\u001b[39;00m isinstance(obj, np.ndarray):\n",
      "\u001b[32m~/miniconda3/envs/tf220/lib/python3.11/site-packages/altair/utils/schemapi.py\u001b[39m in \u001b[36m?\u001b[39m\u001b[34m(obj, context, np_opt, pd_opt)\u001b[39m\n\u001b[32m    545\u001b[39m                 \u001b[38;5;66;03m# See https://github.com/vega/altair/issues/1027 for why this is necessary.\u001b[39;00m\n\u001b[32m    546\u001b[39m                 result += \u001b[33m\"T00:00:00\"\u001b[39m\n\u001b[32m    547\u001b[39m             \u001b[38;5;28;01mreturn\u001b[39;00m result\n\u001b[32m    548\u001b[39m     \u001b[38;5;28;01mif\u001b[39;00m isinstance(obj, SchemaBase):\n\u001b[32m--> \u001b[39m\u001b[32m549\u001b[39m         \u001b[38;5;28;01mreturn\u001b[39;00m obj.to_dict(validate=\u001b[38;5;28;01mFalse\u001b[39;00m, context=context)\n\u001b[32m    550\u001b[39m     \u001b[38;5;28;01melif\u001b[39;00m isinstance(obj, (list, tuple)):\n\u001b[32m    551\u001b[39m         \u001b[38;5;28;01mreturn\u001b[39;00m [_todict(v, context, np_opt, pd_opt) \u001b[38;5;28;01mfor\u001b[39;00m v \u001b[38;5;28;01min\u001b[39;00m obj]\n\u001b[32m    552\u001b[39m     \u001b[38;5;28;01melif\u001b[39;00m isinstance(obj, dict):\n",
      "\u001b[32m~/miniconda3/envs/tf220/lib/python3.11/site-packages/altair/vegalite/v5/schema/channels.py\u001b[39m in \u001b[36m?\u001b[39m\u001b[34m(self, validate, ignore, context)\u001b[39m\n\u001b[32m    205\u001b[39m                         \u001b[33m\" verify that the field name is not misspelled.\"\u001b[39m\n\u001b[32m    206\u001b[39m                         \u001b[33m\" If you are referencing a field from a transform,\"\u001b[39m\n\u001b[32m    207\u001b[39m                         \u001b[33m\" also confirm that the data type is specified correctly.\"\u001b[39m\n\u001b[32m    208\u001b[39m                     )\n\u001b[32m--> \u001b[39m\u001b[32m209\u001b[39m                     \u001b[38;5;28;01mraise\u001b[39;00m ValueError(msg)\n\u001b[32m    210\u001b[39m                 \u001b[38;5;28;01melse\u001b[39;00m:\n\u001b[32m    211\u001b[39m                     msg = (\n\u001b[32m    212\u001b[39m                         \u001b[33mf\"{shorthand} encoding field is specified without a type; \"\u001b[39m\n",
      "\u001b[31mValueError\u001b[39m: Unable to determine data type for the field \"rating count\"; verify that the field name is not misspelled. If you are referencing a field from a transform, also confirm that the data type is specified correctly."
     ]
    },
    {
     "data": {
      "text/plain": [
       "alt.HConcatChart(...)"
      ]
     },
     "execution_count": 24,
     "metadata": {},
     "output_type": "execute_result"
    }
   ],
   "source": [
    "occupation_filter = alt.selection_multi(fields=[\"occupation\"])\n",
    "occupation_chart = alt.Chart().mark_bar().encode(\n",
    "    x=\"count()\",\n",
    "    y=alt.Y(\"occupation:N\"),\n",
    "    color=alt.condition(\n",
    "        occupation_filter,\n",
    "        alt.Color(\"occupation:N\", scale=alt.Scale(scheme='category20')),\n",
    "        alt.value(\"lightgray\")),\n",
    ").add_selection(occupation_filter) # Move selection here\n",
    "# ... (Rest of your code remains the same)\n",
    "# Create a chart for the count, and one for the mean.\n",
    "alt.hconcat(\n",
    "    filtered_hist('rating count', '# ratings / user', occupation_filter),\n",
    "    filtered_hist('rating mean', 'mean user rating', occupation_filter),\n",
    "    occupation_chart,\n",
    "    data=ratings)"
   ]
  }
 ],
 "metadata": {
  "kernelspec": {
   "display_name": "tf220",
   "language": "python",
   "name": "python3"
  },
  "language_info": {
   "codemirror_mode": {
    "name": "ipython",
    "version": 3
   },
   "file_extension": ".py",
   "mimetype": "text/x-python",
   "name": "python",
   "nbconvert_exporter": "python",
   "pygments_lexer": "ipython3",
   "version": "3.11.13"
  }
 },
 "nbformat": 4,
 "nbformat_minor": 5
}
