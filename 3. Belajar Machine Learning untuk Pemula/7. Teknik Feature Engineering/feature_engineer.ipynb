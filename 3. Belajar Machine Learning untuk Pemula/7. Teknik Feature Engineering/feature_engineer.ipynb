{
 "cells": [
  {
   "cell_type": "markdown",
   "id": "56f89e45",
   "metadata": {},
   "source": [
    "# Teknik Feature Engineering\n"
   ]
  },
  {
   "cell_type": "markdown",
   "id": "bf881f34",
   "metadata": {},
   "source": [
    "## Teknik Pemilihan Fitur (Feature Selection)"
   ]
  },
  {
   "cell_type": "code",
   "execution_count": 1,
   "id": "b1143471",
   "metadata": {},
   "outputs": [],
   "source": [
    "import numpy as np\n",
    "import pandas as pd\n",
    "from sklearn.datasets import load_iris\n",
    "from sklearn.feature_selection import SelectKBest, chi2\n",
    "from sklearn.feature_selection import RFE\n",
    "from sklearn.linear_model import LogisticRegression\n",
    "from sklearn.model_selection import train_test_split\n",
    "from sklearn.preprocessing import StandardScaler\n",
    "from sklearn.datasets import load_wine"
   ]
  },
  {
   "cell_type": "code",
   "execution_count": 2,
   "id": "328e0406",
   "metadata": {},
   "outputs": [],
   "source": [
    "data = load_wine()\n",
    "X, y = data.data, data.target"
   ]
  },
  {
   "cell_type": "code",
   "execution_count": 3,
   "id": "fd3fb04e",
   "metadata": {},
   "outputs": [
    {
     "data": {
      "text/html": [
       "<div>\n",
       "<style scoped>\n",
       "    .dataframe tbody tr th:only-of-type {\n",
       "        vertical-align: middle;\n",
       "    }\n",
       "\n",
       "    .dataframe tbody tr th {\n",
       "        vertical-align: top;\n",
       "    }\n",
       "\n",
       "    .dataframe thead th {\n",
       "        text-align: right;\n",
       "    }\n",
       "</style>\n",
       "<table border=\"1\" class=\"dataframe\">\n",
       "  <thead>\n",
       "    <tr style=\"text-align: right;\">\n",
       "      <th></th>\n",
       "      <th>alcohol</th>\n",
       "      <th>malic_acid</th>\n",
       "      <th>ash</th>\n",
       "      <th>alcalinity_of_ash</th>\n",
       "      <th>magnesium</th>\n",
       "      <th>total_phenols</th>\n",
       "      <th>flavanoids</th>\n",
       "      <th>nonflavanoid_phenols</th>\n",
       "      <th>proanthocyanins</th>\n",
       "      <th>color_intensity</th>\n",
       "      <th>hue</th>\n",
       "      <th>od280/od315_of_diluted_wines</th>\n",
       "      <th>proline</th>\n",
       "      <th>target</th>\n",
       "    </tr>\n",
       "  </thead>\n",
       "  <tbody>\n",
       "    <tr>\n",
       "      <th>0</th>\n",
       "      <td>14.23</td>\n",
       "      <td>1.71</td>\n",
       "      <td>2.43</td>\n",
       "      <td>15.6</td>\n",
       "      <td>127.0</td>\n",
       "      <td>2.80</td>\n",
       "      <td>3.06</td>\n",
       "      <td>0.28</td>\n",
       "      <td>2.29</td>\n",
       "      <td>5.64</td>\n",
       "      <td>1.04</td>\n",
       "      <td>3.92</td>\n",
       "      <td>1065.0</td>\n",
       "      <td>0</td>\n",
       "    </tr>\n",
       "    <tr>\n",
       "      <th>1</th>\n",
       "      <td>13.20</td>\n",
       "      <td>1.78</td>\n",
       "      <td>2.14</td>\n",
       "      <td>11.2</td>\n",
       "      <td>100.0</td>\n",
       "      <td>2.65</td>\n",
       "      <td>2.76</td>\n",
       "      <td>0.26</td>\n",
       "      <td>1.28</td>\n",
       "      <td>4.38</td>\n",
       "      <td>1.05</td>\n",
       "      <td>3.40</td>\n",
       "      <td>1050.0</td>\n",
       "      <td>0</td>\n",
       "    </tr>\n",
       "    <tr>\n",
       "      <th>2</th>\n",
       "      <td>13.16</td>\n",
       "      <td>2.36</td>\n",
       "      <td>2.67</td>\n",
       "      <td>18.6</td>\n",
       "      <td>101.0</td>\n",
       "      <td>2.80</td>\n",
       "      <td>3.24</td>\n",
       "      <td>0.30</td>\n",
       "      <td>2.81</td>\n",
       "      <td>5.68</td>\n",
       "      <td>1.03</td>\n",
       "      <td>3.17</td>\n",
       "      <td>1185.0</td>\n",
       "      <td>0</td>\n",
       "    </tr>\n",
       "    <tr>\n",
       "      <th>3</th>\n",
       "      <td>14.37</td>\n",
       "      <td>1.95</td>\n",
       "      <td>2.50</td>\n",
       "      <td>16.8</td>\n",
       "      <td>113.0</td>\n",
       "      <td>3.85</td>\n",
       "      <td>3.49</td>\n",
       "      <td>0.24</td>\n",
       "      <td>2.18</td>\n",
       "      <td>7.80</td>\n",
       "      <td>0.86</td>\n",
       "      <td>3.45</td>\n",
       "      <td>1480.0</td>\n",
       "      <td>0</td>\n",
       "    </tr>\n",
       "    <tr>\n",
       "      <th>4</th>\n",
       "      <td>13.24</td>\n",
       "      <td>2.59</td>\n",
       "      <td>2.87</td>\n",
       "      <td>21.0</td>\n",
       "      <td>118.0</td>\n",
       "      <td>2.80</td>\n",
       "      <td>2.69</td>\n",
       "      <td>0.39</td>\n",
       "      <td>1.82</td>\n",
       "      <td>4.32</td>\n",
       "      <td>1.04</td>\n",
       "      <td>2.93</td>\n",
       "      <td>735.0</td>\n",
       "      <td>0</td>\n",
       "    </tr>\n",
       "  </tbody>\n",
       "</table>\n",
       "</div>"
      ],
      "text/plain": [
       "   alcohol  malic_acid   ash  ...  od280/od315_of_diluted_wines  proline  target\n",
       "0    14.23        1.71  2.43  ...                          3.92   1065.0       0\n",
       "1    13.20        1.78  2.14  ...                          3.40   1050.0       0\n",
       "2    13.16        2.36  2.67  ...                          3.17   1185.0       0\n",
       "3    14.37        1.95  2.50  ...                          3.45   1480.0       0\n",
       "4    13.24        2.59  2.87  ...                          2.93    735.0       0\n",
       "\n",
       "[5 rows x 14 columns]"
      ]
     },
     "execution_count": 3,
     "metadata": {},
     "output_type": "execute_result"
    }
   ],
   "source": [
    "df = pd.DataFrame(X, columns=data.feature_names)\n",
    "df[\"target\"] = y\n",
    "df.head()"
   ]
  },
  {
   "cell_type": "code",
   "execution_count": 4,
   "id": "8c488b68",
   "metadata": {},
   "outputs": [],
   "source": [
    "# Pembagian data\n",
    "X_train, X_test, y_train, y_test = train_test_split(X, y, test_size=0.2, random_state=42)"
   ]
  },
  {
   "cell_type": "markdown",
   "id": "47c310df",
   "metadata": {},
   "source": [
    "## Filter Method"
   ]
  },
  {
   "cell_type": "code",
   "execution_count": 5,
   "id": "3ae784dd",
   "metadata": {},
   "outputs": [
    {
     "name": "stdout",
     "output_type": "stream",
     "text": [
      "Fitur yang dipilih dengan Filter Methods: [ 9 12]\n"
     ]
    }
   ],
   "source": [
    "# ------------------- Filter Methods -------------------\n",
    "# Menggunakan SelectKBest\n",
    "filter_selector = SelectKBest(score_func=chi2, k=2)  # Memilih 2 fitur terbaik\n",
    "X_train_filter = filter_selector.fit_transform(X_train, y_train)\n",
    "X_test_filter = filter_selector.transform(X_test)\n",
    " \n",
    "print(\"Fitur yang dipilih dengan Filter Methods:\", filter_selector.get_support(indices=True))"
   ]
  },
  {
   "cell_type": "markdown",
   "id": "dbc2d9bd",
   "metadata": {},
   "source": [
    "# Penjelasan SelectKBest dengan Chi-Squared (χ²)\n",
    "\n",
    "## SelectKBest\n",
    "**SelectKBest** adalah salah satu metode dari *filter methods* yang umum digunakan untuk memilih fitur terbaik berdasarkan skor statistik tertentu.\n",
    "\n",
    "- **Parameter `score_func=chi2`**  \n",
    "  Berarti metode ini menggunakan **Chi-squared (χ²)** sebagai fungsi skor.  \n",
    "  Chi-squared adalah uji statistik yang digunakan untuk mengukur independensi antara dua variabel kategorikal.\n",
    "\n",
    "- **Parameter `k=2`**  \n",
    "  Artinya hanya akan dipilih **2 fitur terbaik** dari semua fitur yang ada di dataset.  \n",
    "  Dengan kata lain, ini akan menyeleksi dua fitur dengan skor tertinggi berdasarkan hasil uji Chi-squared.\n",
    "\n",
    "> Kedua parameter ini bisa Anda sesuaikan dengan studi kasus dan juga *trial and error*.\n",
    "\n",
    "---\n",
    "\n",
    "## fit_transform(X_train, y_train)\n",
    "- **`fit(X_train, y_train)`**  \n",
    "  Menghitung skor Chi-squared untuk setiap fitur pada data pelatihan (`X_train`) terhadap target (`y_train`).\n",
    "\n",
    "- **`transform(X_train)`**  \n",
    "  Menyalin data dari `X_train`, tetapi hanya menyimpan fitur yang dipilih oleh `filter_selector`.\n",
    "\n",
    "Hasilnya adalah dataset pelatihan baru (`X_train_filter`) yang hanya mengandung **dua fitur terbaik** hasil perhitungan Chi-squared.\n",
    "\n",
    "---\n",
    "\n",
    "## transform(X_test)\n",
    "Fungsi **`transform(X_test)`** digunakan untuk mentransformasikan dataset uji (`X_test`) dengan memilih fitur yang sama seperti pada dataset pelatihan.\n",
    "\n",
    "---\n",
    "\n",
    "## get_support(indices=True)\n",
    "Fungsi **`get_support(indices=True)`** digunakan untuk mendapatkan **indeks fitur** yang dipilih.  \n",
    "Dalam hal ini, fitur yang dipilih adalah **dua fitur dengan skor tertinggi** berdasarkan uji Chi-squared.\n",
    "\n",
    "Output dari fungsi ini akan mencetak indeks fitur dari dataset awal sehingga kita tahu fitur mana yang tetap dipertahankan setelah proses seleksi.\n",
    "\n",
    "---\n",
    "\n",
    "## Hasil Akhir\n",
    "- Dataset yang sudah difilter hanya berisi **dua fitur dengan skor independensi terbesar**.  \n",
    "- Indeks fitur yang dipertahankan bisa digunakan untuk analisis lebih lanjut.  \n",
    "\n",
    "---\n",
    "\n",
    "📌 *Sampai di sini, Anda sudah memiliki dataset dengan dua fitur terbaik.  \n",
    "Namun, tahan dulu rasa penasaran Anda, karena pada akhir materi ini kita akan membandingkan performa dari tiga metode feature selection.*\n"
   ]
  },
  {
   "cell_type": "markdown",
   "id": "9e68f2c1",
   "metadata": {},
   "source": [
    "## Wrapper Method"
   ]
  },
  {
   "cell_type": "code",
   "execution_count": 6,
   "id": "9b22c307",
   "metadata": {},
   "outputs": [
    {
     "name": "stdout",
     "output_type": "stream",
     "text": [
      "Fitur yang dipilih dengan Wrapper Methods: [0 6]\n"
     ]
    }
   ],
   "source": [
    "# Menggunakan RFE (Recursive Feature Elimination)\n",
    "model = LogisticRegression(solver='lbfgs', max_iter=5000)\n",
    "rfe_selector = RFE(model, n_features_to_select=2)  # Memilih 2 fitur\n",
    "X_train_rfe = rfe_selector.fit_transform(X_train, y_train)\n",
    "X_test_rfe = rfe_selector.transform(X_test)\n",
    " \n",
    "print(\"Fitur yang dipilih dengan Wrapper Methods:\", rfe_selector.get_support(indices=True))"
   ]
  },
  {
   "cell_type": "markdown",
   "id": "5e6a9843",
   "metadata": {},
   "source": [
    "## Embedded Methods"
   ]
  },
  {
   "cell_type": "code",
   "execution_count": 7,
   "id": "d46267b4",
   "metadata": {},
   "outputs": [
    {
     "name": "stdout",
     "output_type": "stream",
     "text": [
      "Fitur yang dipilih dengan Embedded Methods (di atas ambang batas):\n",
      "alcohol: 0.11239773542143086\n",
      "flavanoids: 0.20229341635663622\n",
      "color_intensity: 0.1712021830864957\n",
      "hue: 0.07089132259413944\n",
      "od280/od315_of_diluted_wines: 0.1115643167260497\n",
      "proline: 0.13904586955351153\n",
      "\n",
      "Dimensi data pelatihan dengan fitur penting: (142, 6)\n",
      "Dimensi data pengujian dengan fitur penting: (36, 6)\n"
     ]
    }
   ],
   "source": [
    "from sklearn.ensemble import RandomForestClassifier\n",
    "# ------------------- Embedded Methods -------------------\n",
    "# Menggunakan Random Forest untuk mendapatkan fitur penting\n",
    "rf_model = RandomForestClassifier(n_estimators=100, random_state=42)\n",
    "rf_model.fit(X_train, y_train)\n",
    " \n",
    "# Mendapatkan fitur penting\n",
    "importances = rf_model.feature_importances_\n",
    "indices = np.argsort(importances)[::-1]\n",
    " \n",
    "# Menentukan ambang batas untuk fitur penting\n",
    "threshold = 0.05  # Misalnya, ambang batas 5%\n",
    "important_features_indices = [i for i in range(len(importances)) if importances[i] >= threshold]\n",
    " \n",
    "# Memindahkan fitur penting ke variabel baru\n",
    "X_important = X_train[:, important_features_indices]  # Hanya fitur penting dari data pelatihan\n",
    "X_test_important = X_test[:, important_features_indices]  # Hanya fitur penting dari data pengujian\n",
    " \n",
    "# Mencetak fitur yang dipilih\n",
    "print(\"Fitur yang dipilih dengan Embedded Methods (di atas ambang batas):\")\n",
    "for i in important_features_indices:\n",
    "    print(f\"{data.feature_names[i]}: {importances[i]}\")\n",
    " \n",
    "# X_important sekarang berisi hanya fitur penting\n",
    "print(\"\\nDimensi data pelatihan dengan fitur penting:\", X_important.shape)\n",
    "print(\"Dimensi data pengujian dengan fitur penting:\", X_test_important.shape)"
   ]
  },
  {
   "cell_type": "code",
   "execution_count": 8,
   "id": "d389fde7",
   "metadata": {},
   "outputs": [],
   "source": [
    "# Evaluasi dengan fitur terpilih dari masing-masing metode\n",
    "def evaluate_model(X_train, X_test, y_train, y_test, model):\n",
    "    model.fit(X_train, y_train)\n",
    "    accuracy = model.score(X_test, y_test)\n",
    "    return accuracy"
   ]
  },
  {
   "cell_type": "code",
   "execution_count": 9,
   "id": "93e78a62",
   "metadata": {},
   "outputs": [],
   "source": [
    "# Model Logistic Regression untuk Filter Methods\n",
    "logistic_model_filter = LogisticRegression(max_iter=200)\n",
    "accuracy_filter = evaluate_model(X_train_filter, X_test_filter, y_train, y_test, logistic_model_filter)\n",
    " \n",
    "# Model Logistic Regression untuk Wrapper Methods\n",
    "logistic_model_rfe = LogisticRegression(max_iter=200)\n",
    "accuracy_rfe = evaluate_model(X_train_rfe, X_test_rfe, y_train, y_test, logistic_model_rfe)\n",
    " \n",
    "# Model Random Forest untuk Embedded Methods\n",
    "accuracy_rf = evaluate_model(X_important, X_test_important, y_train, y_test, rf_model)"
   ]
  },
  {
   "cell_type": "code",
   "execution_count": 10,
   "id": "43c8141b",
   "metadata": {},
   "outputs": [
    {
     "name": "stdout",
     "output_type": "stream",
     "text": [
      "\n",
      "Akurasi Model dengan Filter Methods: 0.89\n",
      "Akurasi Model dengan Wrapper Methods: 0.94\n",
      "Akurasi Model dengan Embedded Methods: 1.00\n"
     ]
    }
   ],
   "source": [
    "print(f\"\\nAkurasi Model dengan Filter Methods: {accuracy_filter:.2f}\")\n",
    "print(f\"Akurasi Model dengan Wrapper Methods: {accuracy_rfe:.2f}\")\n",
    "print(f\"Akurasi Model dengan Embedded Methods: {accuracy_rf:.2f}\")"
   ]
  }
 ],
 "metadata": {
  "kernelspec": {
   "display_name": "base",
   "language": "python",
   "name": "python3"
  },
  "language_info": {
   "codemirror_mode": {
    "name": "ipython",
    "version": 3
   },
   "file_extension": ".py",
   "mimetype": "text/x-python",
   "name": "python",
   "nbconvert_exporter": "python",
   "pygments_lexer": "ipython3",
   "version": "3.12.4"
  }
 },
 "nbformat": 4,
 "nbformat_minor": 5
}
